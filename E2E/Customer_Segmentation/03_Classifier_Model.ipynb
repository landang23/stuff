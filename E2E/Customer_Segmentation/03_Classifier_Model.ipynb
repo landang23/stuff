{
 "cells": [
  {
   "cell_type": "markdown",
   "metadata": {
    "application/vnd.databricks.v1+cell": {
     "cellMetadata": {},
     "inputWidgets": {},
     "nuid": "f450ba45-2c0a-46e7-9a52-3774e0b268db",
     "showTitle": false,
     "tableResultSettingsMap": {},
     "title": ""
    }
   },
   "source": [
    "# 03_Classifier_Model\n",
    "-------------\n",
    "Build a basic ML model to classify a customer into one main category"
   ]
  },
  {
   "cell_type": "code",
   "execution_count": 0,
   "metadata": {
    "application/vnd.databricks.v1+cell": {
     "cellMetadata": {
      "byteLimit": 2048000,
      "rowLimit": 10000
     },
     "inputWidgets": {},
     "nuid": "33b76060-dc97-42fa-a355-633dea2b150c",
     "showTitle": false,
     "tableResultSettingsMap": {},
     "title": ""
    }
   },
   "outputs": [],
   "source": [
    "# 1. Imports\n",
    "import pandas as pd\n",
    "import numpy as np\n",
    "from sklearn.model_selection import train_test_split\n",
    "from sklearn.ensemble import RandomForestClassifier\n",
    "from sklearn.preprocessing import StandardScaler\n",
    "from sklearn.metrics import classification_report"
   ]
  },
  {
   "cell_type": "code",
   "execution_count": 0,
   "metadata": {
    "application/vnd.databricks.v1+cell": {
     "cellMetadata": {
      "byteLimit": 2048000,
      "rowLimit": 10000
     },
     "inputWidgets": {},
     "nuid": "fd7207d9-3fde-428a-af3b-5475f076a45f",
     "showTitle": false,
     "tableResultSettingsMap": {},
     "title": ""
    }
   },
   "outputs": [],
   "source": [
    "# 2. Data Loading\n",
    "sdf = spark.sql(\"SELECT * FROM users.landan_george.customer_engagement_gold\")\n",
    "df = sdf.toPandas()\n",
    "df.head()"
   ]
  },
  {
   "cell_type": "code",
   "execution_count": 0,
   "metadata": {
    "application/vnd.databricks.v1+cell": {
     "cellMetadata": {
      "byteLimit": 2048000,
      "rowLimit": 10000
     },
     "inputWidgets": {},
     "nuid": "a441e33f-55fb-4bca-a7d3-b291881190d3",
     "showTitle": false,
     "tableResultSettingsMap": {},
     "title": ""
    }
   },
   "outputs": [],
   "source": [
    "# 3. Rule-based Segment Assignment (Target Variable)\n",
    "def assign_segment(row):\n",
    "    if row['LoyaltyScore'] > 80 and row['TotalPurchases'] >= 10:\n",
    "        return \"Loyalists\"\n",
    "    elif row['DiscountUsageRate'] > 0.5 and row['LoyaltyScore'] < 60:\n",
    "        return \"Bargain Seekers\"\n",
    "    elif row['AvgOrderValue'] > 70 and row['Returns'] == 0:\n",
    "        return \"High Value\"\n",
    "    elif row['DaysSinceLastPurchase'] > 90 and row['LoyaltyScore'] < 50:\n",
    "        return \"Churn Risk\"\n",
    "    else:\n",
    "        return \"Other\"\n",
    "      \n",
    "df[\"Segment\"] = df.apply(assign_segment, axis=1)\n",
    "df = df[df[\"Segment\"] != \"Other\"]  # remove unclear segments for training"
   ]
  },
  {
   "cell_type": "code",
   "execution_count": 0,
   "metadata": {
    "application/vnd.databricks.v1+cell": {
     "cellMetadata": {
      "byteLimit": 2048000,
      "rowLimit": 10000
     },
     "inputWidgets": {},
     "nuid": "b83e6101-a115-4878-87fc-85158999b13b",
     "showTitle": false,
     "tableResultSettingsMap": {},
     "title": ""
    }
   },
   "outputs": [],
   "source": [
    "sdf = spark.createDataFrame(df)\n",
    "sdf.write.mode(\"overwrite\").saveAsTable(\"users.landan_george.customer_segment_annotated\")"
   ]
  },
  {
   "cell_type": "code",
   "execution_count": 0,
   "metadata": {
    "application/vnd.databricks.v1+cell": {
     "cellMetadata": {
      "byteLimit": 2048000,
      "rowLimit": 10000
     },
     "inputWidgets": {},
     "nuid": "c9a01775-4e53-4104-9dae-0cd6e84e11ce",
     "showTitle": false,
     "tableResultSettingsMap": {},
     "title": ""
    }
   },
   "outputs": [],
   "source": [
    "# 4. Prepare Features and Labels\n",
    "features = [\n",
    "  'TotalPurchases',\n",
    "  'AvgOrderValue',\n",
    "  'TotalSpent',\n",
    "  'DaysSinceLastPurchase',\n",
    "  'Age',\n",
    "  'LoyaltyScore',\n",
    "  'Returns',\n",
    "  'DiscountUsageRate',\n",
    "  'EmailOpens',\n",
    "  'WebVisits',\n",
    "  'MobileAppSessions'\n",
    "]\n",
    "\n",
    "X = df[features]\n",
    "y = df['Segment']\n"
   ]
  },
  {
   "cell_type": "code",
   "execution_count": 0,
   "metadata": {
    "application/vnd.databricks.v1+cell": {
     "cellMetadata": {
      "byteLimit": 2048000,
      "rowLimit": 10000
     },
     "inputWidgets": {},
     "nuid": "25db2c02-581c-45d7-99b6-33a4af19580a",
     "showTitle": false,
     "tableResultSettingsMap": {},
     "title": ""
    }
   },
   "outputs": [],
   "source": [
    "# 5. Preprocessing\n",
    "scaler = StandardScaler()\n",
    "X_scaled = scaler.fit_transform(X)\n",
    "\n",
    "# 6. Train/Test Split\n",
    "X_train, X_test, y_train, y_test = train_test_split(X_scaled, y, stratify=y, test_size=0.2, random_state=23)\n",
    "\n",
    "# 7. Train Classifier\n",
    "clf = RandomForestClassifier(n_estimators=25, random_state=42)\n",
    "clf.fit(X_train, y_train)\n",
    "\n",
    "# 8. Evaluate\n",
    "y_pred = clf.predict(X_test)\n",
    "print(classification_report(y_test, y_pred))\n"
   ]
  },
  {
   "cell_type": "code",
   "execution_count": 0,
   "metadata": {
    "application/vnd.databricks.v1+cell": {
     "cellMetadata": {
      "byteLimit": 2048000,
      "rowLimit": 10000
     },
     "inputWidgets": {},
     "nuid": "8949db29-55f4-490a-a1a3-95f9b938f915",
     "showTitle": false,
     "tableResultSettingsMap": {},
     "title": ""
    }
   },
   "outputs": [],
   "source": []
  },
  {
   "cell_type": "code",
   "execution_count": 0,
   "metadata": {
    "application/vnd.databricks.v1+cell": {
     "cellMetadata": {},
     "inputWidgets": {},
     "nuid": "809528ae-6457-4e66-8a3a-b9b597ee1261",
     "showTitle": false,
     "tableResultSettingsMap": {},
     "title": ""
    }
   },
   "outputs": [],
   "source": []
  },
  {
   "cell_type": "markdown",
   "metadata": {
    "application/vnd.databricks.v1+cell": {
     "cellMetadata": {},
     "inputWidgets": {},
     "nuid": "2e2cb9d3-49dd-4d43-94b4-d3e9b6010acf",
     "showTitle": false,
     "tableResultSettingsMap": {},
     "title": ""
    }
   },
   "source": [
    "### Method 2"
   ]
  },
  {
   "cell_type": "code",
   "execution_count": 0,
   "metadata": {
    "application/vnd.databricks.v1+cell": {
     "cellMetadata": {
      "byteLimit": 2048000,
      "rowLimit": 10000
     },
     "inputWidgets": {},
     "nuid": "b77c453b-9e06-4147-9094-0504905f3487",
     "showTitle": false,
     "tableResultSettingsMap": {},
     "title": ""
    }
   },
   "outputs": [],
   "source": [
    "sdf = spark.sql(\"SELECT * FROM users.landan_george.customer_engagement_gold\")\n",
    "df = sdf.toPandas()"
   ]
  },
  {
   "cell_type": "code",
   "execution_count": 0,
   "metadata": {
    "application/vnd.databricks.v1+cell": {
     "cellMetadata": {
      "byteLimit": 2048000,
      "rowLimit": 10000
     },
     "inputWidgets": {},
     "nuid": "796b0d35-21c9-4de6-95f8-af3c887e51c3",
     "showTitle": false,
     "tableResultSettingsMap": {},
     "title": ""
    }
   },
   "outputs": [],
   "source": [
    "df2 = df[['CustomerID', 'TotalPurchases', 'DaysSinceLastPurchase', 'TotalSpent', 'LoyaltyScore']]"
   ]
  },
  {
   "cell_type": "code",
   "execution_count": 0,
   "metadata": {
    "application/vnd.databricks.v1+cell": {
     "cellMetadata": {
      "byteLimit": 2048000,
      "rowLimit": 10000
     },
     "inputWidgets": {},
     "nuid": "f30bccc8-a30b-426c-a263-c4681b0e0135",
     "showTitle": false,
     "tableResultSettingsMap": {},
     "title": ""
    }
   },
   "outputs": [],
   "source": [
    "df2 = df2.rename(\n",
    "  columns={\n",
    "    'TotalPurchases': 'Frequency',\n",
    "    'DaysSinceLastPurchase': 'Recency',\n",
    "    'TotalSpent': 'MonetaryValue',\n",
    "    'LoyaltyScore': 'Loyalty'\n",
    "  }\n",
    ")"
   ]
  },
  {
   "cell_type": "code",
   "execution_count": 0,
   "metadata": {
    "application/vnd.databricks.v1+cell": {
     "cellMetadata": {
      "byteLimit": 2048000,
      "rowLimit": 10000
     },
     "inputWidgets": {},
     "nuid": "5dd3ac18-ecfe-4c7d-b81c-532fed297249",
     "showTitle": false,
     "tableResultSettingsMap": {},
     "title": ""
    }
   },
   "outputs": [],
   "source": [
    "df2.tail()"
   ]
  },
  {
   "cell_type": "code",
   "execution_count": 0,
   "metadata": {
    "application/vnd.databricks.v1+cell": {
     "cellMetadata": {
      "byteLimit": 2048000,
      "rowLimit": 10000
     },
     "inputWidgets": {},
     "nuid": "5f128574-b4ad-45d0-8412-56d670622357",
     "showTitle": false,
     "tableResultSettingsMap": {},
     "title": ""
    }
   },
   "outputs": [],
   "source": [
    "# # # Calculate custom bin edges for Recency, Frequency, and Monetary scores\n",
    "# # recency_bins = [1, 30, 60, 90, 120, 150, 180, 210, 240, 270, 300, 330, 365]\n",
    "# # frequency_bins = [df2['Frequency'].min() - 1, 3, 6, 9, 12, df2['Frequency'].max()]\n",
    "# # monetary_bins = [0, 100, 200, 300, 400, 500, 600, 700, 800, 900, 1000]\n",
    "# # loyalty_bins = [0, 10, 20, 30, 40, 50, 60, 70, 80, 90, 100]"
   ]
  },
  {
   "cell_type": "code",
   "execution_count": 0,
   "metadata": {
    "application/vnd.databricks.v1+cell": {
     "cellMetadata": {
      "byteLimit": 2048000,
      "rowLimit": 10000
     },
     "inputWidgets": {},
     "nuid": "922359b8-70fe-4c3b-bb05-ebb7c701c304",
     "showTitle": false,
     "tableResultSettingsMap": {},
     "title": ""
    }
   },
   "outputs": [],
   "source": [
    "# Calculate custom bin edges for Recency, Frequency, and Monetary scores\n",
    "recency_bins = [df2['Recency'].min()-1, 20, 50, 150, 250, df2['Recency'].max()]\n",
    "frequency_bins = [df2['Frequency'].min() - 1, 2, 3, 10, 100, df2['Frequency'].max()]\n",
    "monetary_bins = [df2['MonetaryValue'].min() - 3, 300, 600, 2000, 5000, df2['MonetaryValue'].max()]\n",
    "loyalty_bins = [df2['Loyalty'].min() - 10, 25, 50, 75, df2['Loyalty'].max()]"
   ]
  },
  {
   "cell_type": "code",
   "execution_count": 0,
   "metadata": {
    "application/vnd.databricks.v1+cell": {
     "cellMetadata": {
      "byteLimit": 2048000,
      "rowLimit": 10000
     },
     "inputWidgets": {},
     "nuid": "030daf6c-37b5-49cd-b444-343757be6545",
     "showTitle": false,
     "tableResultSettingsMap": {},
     "title": ""
    }
   },
   "outputs": [],
   "source": [
    "# Ensure bins are sorted in ascending order\n",
    "recency_bins = sorted(recency_bins)\n",
    "frequency_bins = sorted(frequency_bins)\n",
    "monetary_bins = sorted(monetary_bins)\n",
    "\n",
    "# Calculate Recency score based on custom bins \n",
    "df2['R_Score'] = pd.cut(df2['Recency'], bins=recency_bins, labels=range(1, 6), include_lowest=True)\n",
    "\n",
    "# Reverse the Recency scores so that higher values indicate more recent purchases\n",
    "df2['R_Score'] = 5 - df2['R_Score'].astype(int) + 1\n",
    "\n",
    "# Calculate Frequency and Monetary scores based on custom bins\n",
    "df2['F_Score'] = pd.cut(df2['Frequency'], bins=frequency_bins, labels=range(1, 6), include_lowest=True).astype(int)\n",
    "df2['M_Score'] = pd.cut(df2['MonetaryValue'], bins=monetary_bins, labels=range(1, 6), include_lowest=True).astype(int)"
   ]
  },
  {
   "cell_type": "code",
   "execution_count": 0,
   "metadata": {
    "application/vnd.databricks.v1+cell": {
     "cellMetadata": {
      "byteLimit": 2048000,
      "rowLimit": 10000
     },
     "inputWidgets": {},
     "nuid": "c493c401-3ffe-4a8a-b221-539afc6a7e91",
     "showTitle": false,
     "tableResultSettingsMap": {},
     "title": ""
    }
   },
   "outputs": [],
   "source": [
    "df2.head(3)"
   ]
  },
  {
   "cell_type": "code",
   "execution_count": 0,
   "metadata": {
    "application/vnd.databricks.v1+cell": {
     "cellMetadata": {
      "byteLimit": 2048000,
      "rowLimit": 10000
     },
     "inputWidgets": {},
     "nuid": "1f9ed416-2d59-499f-b0d8-ef14b6bf9d4b",
     "showTitle": false,
     "tableResultSettingsMap": {},
     "title": ""
    }
   },
   "outputs": [],
   "source": [
    "# # Extract RFM scores for K-means clustering\n",
    "X = df2[['R_Score', 'F_Score', 'M_Score', 'L_Score']]\n",
    "\n",
    "# Extract RFM scores for K-means clustering\n",
    "# X = df2[['R_Score', 'F_Score', 'M_Score']]"
   ]
  },
  {
   "cell_type": "code",
   "execution_count": 0,
   "metadata": {
    "application/vnd.databricks.v1+cell": {
     "cellMetadata": {
      "byteLimit": 2048000,
      "rowLimit": 10000
     },
     "inputWidgets": {},
     "nuid": "165326a7-3ae4-47d8-9fd5-e7a4ac1d5814",
     "showTitle": false,
     "tableResultSettingsMap": {},
     "title": ""
    }
   },
   "outputs": [],
   "source": [
    "X.head()"
   ]
  },
  {
   "cell_type": "code",
   "execution_count": 0,
   "metadata": {
    "application/vnd.databricks.v1+cell": {
     "cellMetadata": {
      "byteLimit": 2048000,
      "rowLimit": 10000
     },
     "inputWidgets": {},
     "nuid": "f92457f3-027e-42f8-b69e-4b652cec2a58",
     "showTitle": false,
     "tableResultSettingsMap": {},
     "title": ""
    }
   },
   "outputs": [],
   "source": [
    "import pandas as pd\n",
    "import matplotlib.pyplot as plt\n",
    "from sklearn.cluster import KMeans"
   ]
  },
  {
   "cell_type": "code",
   "execution_count": 0,
   "metadata": {
    "application/vnd.databricks.v1+cell": {
     "cellMetadata": {
      "byteLimit": 2048000,
      "rowLimit": 10000
     },
     "inputWidgets": {},
     "nuid": "0c98f729-dd46-41b3-b733-b66d06fd0240",
     "showTitle": false,
     "tableResultSettingsMap": {},
     "title": ""
    }
   },
   "outputs": [],
   "source": [
    "# Calculate inertia (sum of squared distances) for different values of k\n",
    "inertia = []\n",
    "for k in range(2, 15):\n",
    "    kmeans = KMeans(n_clusters=k, n_init= 10, random_state=42)\n",
    "    kmeans.fit(X)\n",
    "    inertia.append(kmeans.inertia_)\n",
    "\n",
    "# Plot the elbow curve\n",
    "plt.figure(figsize=(8, 6),dpi=150)\n",
    "plt.plot(range(2, 15), inertia, marker='o')\n",
    "plt.xlabel('Number of Clusters (k)')\n",
    "plt.ylabel('Inertia')\n",
    "plt.title('Elbow Curve for K-means Clustering')\n",
    "plt.grid(True)\n",
    "plt.show()"
   ]
  },
  {
   "cell_type": "code",
   "execution_count": 0,
   "metadata": {
    "application/vnd.databricks.v1+cell": {
     "cellMetadata": {
      "byteLimit": 2048000,
      "rowLimit": 10000
     },
     "inputWidgets": {},
     "nuid": "0e9563b7-c476-4262-9dcc-14f5ac954794",
     "showTitle": false,
     "tableResultSettingsMap": {},
     "title": ""
    }
   },
   "outputs": [],
   "source": [
    "# Perform K-means clustering with best K\n",
    "best_kmeans = KMeans(n_clusters=4, n_init=10, random_state=42)\n",
    "df2['Cluster'] = best_kmeans.fit_predict(X)"
   ]
  },
  {
   "cell_type": "code",
   "execution_count": 0,
   "metadata": {
    "application/vnd.databricks.v1+cell": {
     "cellMetadata": {
      "byteLimit": 2048000,
      "rowLimit": 10000
     },
     "inputWidgets": {},
     "nuid": "c1553e70-efcc-4d39-ad69-9c6458410204",
     "showTitle": false,
     "tableResultSettingsMap": {},
     "title": ""
    }
   },
   "outputs": [],
   "source": [
    "# Convert categorical columns to numeric\n",
    "df2['R_Score'] = pd.to_numeric(df2['R_Score'], errors='coerce')\n",
    "df2['F_Score'] = pd.to_numeric(df2['F_Score'], errors='coerce')\n",
    "df2['M_Score'] = pd.to_numeric(df2['M_Score'], errors='coerce')\n",
    "df2['L_Score'] = pd.to_numeric(df2['L_Score'], errors='coerce')\n",
    "\n",
    "# Group by cluster and calculate mean values\n",
    "cluster_summary = df2.groupby('Cluster').agg({\n",
    "    'R_Score': 'median',\n",
    "    'F_Score': 'median',\n",
    "    'M_Score': 'median',\n",
    "    'L_Score': 'median'\n",
    "}).reset_index()"
   ]
  },
  {
   "cell_type": "code",
   "execution_count": 0,
   "metadata": {
    "application/vnd.databricks.v1+cell": {
     "cellMetadata": {
      "byteLimit": 2048000,
      "rowLimit": 10000
     },
     "inputWidgets": {},
     "nuid": "b10daaaa-d3dc-4bf7-8718-eddf5f52ffe4",
     "showTitle": false,
     "tableResultSettingsMap": {},
     "title": ""
    }
   },
   "outputs": [],
   "source": [
    "# # Group by cluster and calculate mean values\n",
    "# cluster_summary = df2.groupby('Cluster').agg({\n",
    "#     'R_Score': 'mean',\n",
    "#     'F_Score': 'mean',\n",
    "#     'M_Score': 'mean',\n",
    "#     'L_Score': 'mean'\n",
    "# }).reset_index()"
   ]
  },
  {
   "cell_type": "code",
   "execution_count": 0,
   "metadata": {
    "application/vnd.databricks.v1+cell": {
     "cellMetadata": {
      "byteLimit": 2048000,
      "rowLimit": 10000
     },
     "inputWidgets": {},
     "nuid": "a0fd33d7-cd07-478e-b64a-768c9c837ac0",
     "showTitle": false,
     "tableResultSettingsMap": {},
     "title": ""
    }
   },
   "outputs": [],
   "source": [
    "print(cluster_summary)\n"
   ]
  },
  {
   "cell_type": "code",
   "execution_count": 0,
   "metadata": {
    "application/vnd.databricks.v1+cell": {
     "cellMetadata": {
      "byteLimit": 2048000,
      "rowLimit": 10000
     },
     "inputWidgets": {},
     "nuid": "01253cef-a48e-468b-9930-49db5cf94b45",
     "showTitle": false,
     "tableResultSettingsMap": {},
     "title": ""
    }
   },
   "outputs": [],
   "source": [
    "df2"
   ]
  },
  {
   "cell_type": "code",
   "execution_count": 0,
   "metadata": {
    "application/vnd.databricks.v1+cell": {
     "cellMetadata": {
      "byteLimit": 2048000,
      "rowLimit": 10000
     },
     "inputWidgets": {},
     "nuid": "d40429c9-be64-4dac-9f76-44cf407fbfaf",
     "showTitle": false,
     "tableResultSettingsMap": {},
     "title": ""
    }
   },
   "outputs": [],
   "source": [
    "colors = ['#3498db', '#2ecc71', '#f39c12','#C9B1BD']\n",
    "\n",
    "# Plot the average RFM scores for each cluster\n",
    "plt.figure(figsize=(10, 8),dpi=150)\n",
    "\n",
    "plt.grid(True, linestyle='--', alpha=0.5)\n",
    "plt.legend(bars, cluster_summary.index, title='Clusters')\n",
    "\n",
    "# Plot Avg Recency\n",
    "plt.subplot(4, 1, 1)\n",
    "bars = plt.bar(cluster_summary.index, cluster_summary['R_Score'], color=colors)\n",
    "plt.xlabel('Cluster')\n",
    "plt.ylabel('Avg Recency')\n",
    "plt.title('Average Recency for Each Cluster')\n",
    "\n",
    "# Plot Avg Frequency\n",
    "plt.subplot(4, 1, 2)\n",
    "bars = plt.bar(cluster_summary.index, cluster_summary['F_Score'], color=colors)\n",
    "plt.xlabel('Cluster')\n",
    "plt.ylabel('Avg Frequency')\n",
    "plt.title('Average Frequency for Each Cluster')\n",
    "plt.grid(True, linestyle='--', alpha=0.5)\n",
    "plt.legend(bars, cluster_summary.index, title='Clusters')\n",
    "\n",
    "# Plot Avg Monetary\n",
    "plt.subplot(4, 1, 3)\n",
    "bars = plt.bar(cluster_summary.index, cluster_summary['M_Score'], color=colors)\n",
    "plt.xlabel('Cluster')\n",
    "plt.ylabel('Avg Monetary')\n",
    "plt.title('Average Monetary Value for Each Cluster')\n",
    "plt.grid(True, linestyle='--', alpha=0.5)\n",
    "plt.legend(bars, cluster_summary.index, title='Clusters')\n",
    "\n",
    "# # Plot Avg Loalty\n",
    "# plt.subplot(4, 1, 4)\n",
    "# bars = plt.bar(cluster_summary.index, cluster_summary['L_Score'], color=colors)\n",
    "# plt.xlabel('Cluster')\n",
    "# plt.ylabel('Avg Loyalty')\n",
    "# plt.title('Average Loyalty Value for Each Cluster')\n",
    "# plt.grid(True, linestyle='--', alpha=0.5)\n",
    "# plt.legend(bars, cluster_summary.index, title='Clusters')\n",
    "\n",
    "plt.tight_layout()\n",
    "plt.show()"
   ]
  },
  {
   "cell_type": "code",
   "execution_count": 0,
   "metadata": {
    "application/vnd.databricks.v1+cell": {
     "cellMetadata": {},
     "inputWidgets": {},
     "nuid": "7e4ad82e-5827-4b31-ad68-de655b162b3c",
     "showTitle": false,
     "tableResultSettingsMap": {},
     "title": ""
    }
   },
   "outputs": [],
   "source": []
  }
 ],
 "metadata": {
  "application/vnd.databricks.v1+notebook": {
   "computePreferences": null,
   "dashboards": [],
   "environmentMetadata": {
    "base_environment": "dbe_c75093c8-0895-475e-8c1b-6acacfe3368b",
    "environment_version": "2"
   },
   "inputWidgetPreferences": null,
   "language": "python",
   "notebookMetadata": {
    "pythonIndentUnit": 2
   },
   "notebookName": "03_Classifier_Model",
   "widgets": {}
  },
  "language_info": {
   "name": "python"
  }
 },
 "nbformat": 4,
 "nbformat_minor": 0
}
