{
 "cells": [
  {
   "cell_type": "markdown",
   "metadata": {
    "application/vnd.databricks.v1+cell": {
     "cellMetadata": {},
     "inputWidgets": {},
     "nuid": "fe457484-746b-4b0b-afa5-289cd6942e28",
     "showTitle": false,
     "tableResultSettingsMap": {},
     "title": ""
    }
   },
   "source": [
    "# 01_SETUP\n",
    "-------------\n",
    "Create required volume, subfolders, and synthetic data"
   ]
  },
  {
   "cell_type": "code",
   "execution_count": 0,
   "metadata": {
    "application/vnd.databricks.v1+cell": {
     "cellMetadata": {
      "byteLimit": 2048000,
      "rowLimit": 10000
     },
     "inputWidgets": {},
     "nuid": "43d036f9-bb05-4059-ae94-8d11279e60d1",
     "showTitle": false,
     "tableResultSettingsMap": {},
     "title": ""
    }
   },
   "outputs": [],
   "source": [
    "%pip install databricks-sdk --upgrade"
   ]
  },
  {
   "cell_type": "code",
   "execution_count": 0,
   "metadata": {
    "application/vnd.databricks.v1+cell": {
     "cellMetadata": {
      "byteLimit": 2048000,
      "rowLimit": 10000
     },
     "inputWidgets": {},
     "nuid": "515a7bcc-7906-4960-a610-cf6bd7c6ae24",
     "showTitle": false,
     "tableResultSettingsMap": {},
     "title": ""
    }
   },
   "outputs": [],
   "source": [
    "dbutils.library.restartPython()"
   ]
  },
  {
   "cell_type": "code",
   "execution_count": 0,
   "metadata": {
    "application/vnd.databricks.v1+cell": {
     "cellMetadata": {
      "byteLimit": 2048000,
      "rowLimit": 10000
     },
     "inputWidgets": {},
     "nuid": "78ac2846-703b-49ad-a9a5-d14929d54798",
     "showTitle": false,
     "tableResultSettingsMap": {},
     "title": ""
    }
   },
   "outputs": [],
   "source": [
    "from databricks.sdk import WorkspaceClient\n",
    "from databricks.sdk.service import pipelines\n",
    "\n",
    "w = WorkspaceClient()"
   ]
  },
  {
   "cell_type": "markdown",
   "metadata": {
    "application/vnd.databricks.v1+cell": {
     "cellMetadata": {},
     "inputWidgets": {},
     "nuid": "bf857448-308a-42ab-b2ce-f3fac459f080",
     "showTitle": false,
     "tableResultSettingsMap": {},
     "title": ""
    }
   },
   "source": [
    "### Part 1: Setup"
   ]
  },
  {
   "cell_type": "code",
   "execution_count": 0,
   "metadata": {
    "application/vnd.databricks.v1+cell": {
     "cellMetadata": {
      "byteLimit": 2048000,
      "rowLimit": 10000
     },
     "inputWidgets": {},
     "nuid": "fcb2d9ab-e5e8-4fea-9435-f777ff7778f5",
     "showTitle": false,
     "tableResultSettingsMap": {},
     "title": ""
    }
   },
   "outputs": [],
   "source": [
    "user = (w.current_user.me().user_name).split(\"@\")[0]\n",
    "username = user.replace(\".\", \"_\")"
   ]
  },
  {
   "cell_type": "code",
   "execution_count": 0,
   "metadata": {
    "application/vnd.databricks.v1+cell": {
     "cellMetadata": {
      "byteLimit": 2048000,
      "rowLimit": 10000
     },
     "inputWidgets": {},
     "nuid": "fa07a798-a29f-418e-989e-bbab39e33b05",
     "showTitle": false,
     "tableResultSettingsMap": {},
     "title": ""
    }
   },
   "outputs": [],
   "source": [
    "username"
   ]
  },
  {
   "cell_type": "code",
   "execution_count": 0,
   "metadata": {
    "application/vnd.databricks.v1+cell": {
     "cellMetadata": {
      "byteLimit": 2048000,
      "implicitDf": true,
      "rowLimit": 10000
     },
     "inputWidgets": {},
     "nuid": "f9eaff8e-43d4-4e1c-a0d8-a8f1d006132d",
     "showTitle": false,
     "tableResultSettingsMap": {},
     "title": ""
    }
   },
   "outputs": [],
   "source": [
    "%sql\n",
    "USE CATALOG users;"
   ]
  },
  {
   "cell_type": "code",
   "execution_count": 0,
   "metadata": {
    "application/vnd.databricks.v1+cell": {
     "cellMetadata": {
      "byteLimit": 2048000,
      "rowLimit": 10000
     },
     "inputWidgets": {},
     "nuid": "7bb87508-5737-405d-90bc-02504aa53c45",
     "showTitle": false,
     "tableResultSettingsMap": {},
     "title": ""
    }
   },
   "outputs": [],
   "source": [
    "spark.sql(f\"USE SCHEMA {username}\")"
   ]
  },
  {
   "cell_type": "code",
   "execution_count": 0,
   "metadata": {
    "application/vnd.databricks.v1+cell": {
     "cellMetadata": {
      "byteLimit": 2048000,
      "implicitDf": true,
      "rowLimit": 10000
     },
     "inputWidgets": {},
     "nuid": "2ab3a152-a61c-41fc-a726-782df9b7eda9",
     "showTitle": false,
     "tableResultSettingsMap": {},
     "title": ""
    }
   },
   "outputs": [],
   "source": [
    "%sql\n",
    "SELECT current_schema()"
   ]
  },
  {
   "cell_type": "code",
   "execution_count": 0,
   "metadata": {
    "application/vnd.databricks.v1+cell": {
     "cellMetadata": {
      "byteLimit": 2048000,
      "implicitDf": true,
      "rowLimit": 10000
     },
     "inputWidgets": {},
     "nuid": "6c4558ac-aa63-4525-8c08-769fe7d0c174",
     "showTitle": false,
     "tableResultSettingsMap": {},
     "title": ""
    }
   },
   "outputs": [],
   "source": [
    "%sql\n",
    "CREATE VOLUME IF NOT EXISTS customer_segmentation;"
   ]
  },
  {
   "cell_type": "code",
   "execution_count": 0,
   "metadata": {
    "application/vnd.databricks.v1+cell": {
     "cellMetadata": {
      "byteLimit": 2048000,
      "rowLimit": 10000
     },
     "inputWidgets": {},
     "nuid": "ea5d138e-d0ef-4f5e-be39-d45103f67930",
     "showTitle": false,
     "tableResultSettingsMap": {},
     "title": ""
    }
   },
   "outputs": [],
   "source": [
    "# Define volume, folder, and file details.\n",
    "catalog            = 'users'\n",
    "schema             = username\n",
    "volume             = 'customer_segmentation'\n",
    "volume_path        = f\"/Volumes/{catalog}/{schema}/{volume}\" # /Volumes/main/default/my-volume\n",
    "\n",
    "# Create an empty folder in a volume.\n",
    "w.files.create_directory(f\"{volume_path}/customer_profile\")\n",
    "w.files.create_directory(f\"{volume_path}/transactions\")\n",
    "w.files.create_directory(f\"{volume_path}/engagement\")"
   ]
  },
  {
   "cell_type": "code",
   "execution_count": 0,
   "metadata": {
    "application/vnd.databricks.v1+cell": {
     "cellMetadata": {
      "byteLimit": 2048000,
      "rowLimit": 10000
     },
     "inputWidgets": {},
     "nuid": "c45b6975-1fe3-4c0b-976d-04a67ccd866c",
     "showTitle": false,
     "tableResultSettingsMap": {},
     "title": ""
    }
   },
   "outputs": [],
   "source": [
    "notebook_path = f\"/Users/landan.george@databricks.com/stuff/E2E/Customer_Segmentation/02_Process_Data\"\n",
    "\n",
    "created = w.pipelines.create(\n",
    "    continuous=False,\n",
    "    name=f\"{username}_customer_segmentation\",\n",
    "    libraries=[pipelines.PipelineLibrary(notebook=pipelines.NotebookLibrary(path=notebook_path))],\n",
    "    serverless=True,\n",
    "    budget_policy_id=\"45e016d4-ace8-407d-870f-3f06123daee1\",\n",
    "    photon=True,\n",
    "    catalog=\"users\",\n",
    "    schema=username,\n",
    "    channel=\"CURRENT\"\n",
    ")\n",
    "\n",
    "print(f\"Created pipeline: {created.pipeline_id}\")"
   ]
  },
  {
   "cell_type": "markdown",
   "metadata": {
    "application/vnd.databricks.v1+cell": {
     "cellMetadata": {},
     "inputWidgets": {},
     "nuid": "b0a9baf4-0c32-4e1a-a37d-63b4d9bdd7ea",
     "showTitle": false,
     "tableResultSettingsMap": {},
     "title": ""
    }
   },
   "source": [
    "## Part 2: Synthetic data Gen\n",
    "------\n",
    "Tables:\n",
    "* Customer Profile\n",
    "* Raw Transactions\n",
    "* Engagement"
   ]
  },
  {
   "cell_type": "code",
   "execution_count": 0,
   "metadata": {
    "application/vnd.databricks.v1+cell": {
     "cellMetadata": {
      "byteLimit": 2048000,
      "rowLimit": 10000
     },
     "inputWidgets": {},
     "nuid": "cf727e0b-6887-41c4-bf2a-de924c4f1565",
     "showTitle": false,
     "tableResultSettingsMap": {},
     "title": ""
    }
   },
   "outputs": [],
   "source": [
    "# Imports\n",
    "import pandas as pd\n",
    "import numpy as np\n",
    "from faker import Faker\n",
    "import random"
   ]
  },
  {
   "cell_type": "code",
   "execution_count": 0,
   "metadata": {
    "application/vnd.databricks.v1+cell": {
     "cellMetadata": {
      "byteLimit": 2048000,
      "rowLimit": 10000
     },
     "inputWidgets": {},
     "nuid": "d7ec8b5f-5b8f-4dad-8097-8693d47d1d2a",
     "showTitle": false,
     "tableResultSettingsMap": {},
     "title": ""
    }
   },
   "outputs": [],
   "source": [
    "# Setup\n",
    "fake = Faker()\n",
    "random.seed(42)\n",
    "np.random.seed(42)\n",
    "\n",
    "NUM_CUSTOMERS = 1000"
   ]
  },
  {
   "cell_type": "code",
   "execution_count": 0,
   "metadata": {
    "application/vnd.databricks.v1+cell": {
     "cellMetadata": {
      "byteLimit": 2048000,
      "rowLimit": 10000
     },
     "inputWidgets": {},
     "nuid": "1c821da0-44ee-4fac-8c59-6c2faa3aaf0e",
     "showTitle": false,
     "tableResultSettingsMap": {},
     "title": ""
    }
   },
   "outputs": [],
   "source": [
    "# 1. Customer Profile\n",
    "def generate_customer_profile(n):\n",
    "    data = []\n",
    "    for i in range(n):\n",
    "\n",
    "        location = fake.local_latlng(country_code='US', coords_only=True)\n",
    "\n",
    "        data.append({\n",
    "            \"CustomerID\": f\"C{str(i+1).zfill(4)}\",\n",
    "            \"FirstName\": fake.first_name(),\n",
    "            \"LastName\": fake.last_name(),\n",
    "            \"Age\": random.randint(18, 65),\n",
    "            \"Gender\": (random.choices(['M', 'F', 'X'], weights=[40, 40, 10]))[0],\n",
    "            \"City\": fake.city(),\n",
    "            \"EstLocation\": f\"{float(location[0])} {float(location[1])}\",\n",
    "            \"SignupDate\": fake.date_between(start_date='-5y', end_date='-1y')\n",
    "        })\n",
    "    return pd.DataFrame(data)\n",
    "  \n",
    "profiles = generate_customer_profile(NUM_CUSTOMERS)\n",
    "\n",
    "profiles.to_csv(f\"{volume_path}/customer_profile/customers.csv\", index=False)"
   ]
  },
  {
   "cell_type": "code",
   "execution_count": 0,
   "metadata": {
    "application/vnd.databricks.v1+cell": {
     "cellMetadata": {
      "byteLimit": 2048000,
      "rowLimit": 10000
     },
     "inputWidgets": {},
     "nuid": "407f9263-8d06-40ed-9bda-b7270035f4d5",
     "showTitle": false,
     "tableResultSettingsMap": {},
     "title": ""
    }
   },
   "outputs": [],
   "source": [
    "# 2. Transaction Summary\n",
    "def generate_detailed_transactions(profiles):\n",
    "    transactions = []\n",
    "    categories = ['Fashion', 'Electronics', 'Beauty', 'Home Goods', 'Health & Wellness']\n",
    "    channels = ['Web', 'Mobile App', 'In-Store']\n",
    "    \n",
    "    for _, row in profiles.iterrows():\n",
    "        num_txns = random.randint(1, 15)\n",
    "        if num_txns == 0:\n",
    "            continue\n",
    "        \n",
    "        for i in range(num_txns):\n",
    "            txn_date = pd.to_datetime(\"2025-07-01\") - pd.to_timedelta(np.random.randint(15, 365), unit='D')\n",
    "            amount = round(np.random.normal(60, 25), 2)\n",
    "            category = random.choices(categories, weights=[0.25, 0.2, 0.2, 0.2, 0.15])[0]\n",
    "            discount_used = random.random() < 0.4  # 40% chance\n",
    "            transactions.append({\n",
    "                \"TransactionID\": np.random.randint(100000000, 500000000),\n",
    "                \"CustomerID\": row['CustomerID'],\n",
    "                \"TransactionDate\": txn_date,\n",
    "                \"Amount\": max(amount, 5.0),  # prevent negative/very low\n",
    "                \"Category\": category,\n",
    "                \"Channel\": random.choice(channels),\n",
    "                \"DiscountUsed\": int(discount_used)\n",
    "            })\n",
    "\n",
    "    return pd.DataFrame(transactions)\n",
    "  \n",
    "detailed_txns = generate_detailed_transactions(profiles)\n",
    "\n",
    "detailed_txns.to_csv(f\"{volume_path}/transactions/raw_transactions.csv\", index=False)"
   ]
  },
  {
   "cell_type": "code",
   "execution_count": 0,
   "metadata": {
    "application/vnd.databricks.v1+cell": {
     "cellMetadata": {
      "byteLimit": 2048000,
      "rowLimit": 10000
     },
     "inputWidgets": {},
     "nuid": "b108eecc-9c14-4269-bdcb-dd61395c2a9b",
     "showTitle": false,
     "tableResultSettingsMap": {},
     "title": ""
    }
   },
   "outputs": [],
   "source": [
    "# 3. Engagement Metrics\n",
    "def generate_engagement_data(profiles):\n",
    "    data = []\n",
    "    for _, row in profiles.iterrows():\n",
    "        loyalty = np.random.randint(20, 100)\n",
    "        returns = np.random.binomial(2, 0.2)\n",
    "        discount_rate = round(min(1.0, np.random.beta(2, 5)), 2)\n",
    "        data.append({\n",
    "            \"CustomerID\": row['CustomerID'],\n",
    "            \"EmailOpens\": np.random.poisson(10),\n",
    "            \"WebVisits\": np.random.poisson(6),\n",
    "            \"MobileAppSessions\": np.random.poisson(15),\n",
    "            \"LoyaltyScore\": loyalty,\n",
    "            \"Returns\": returns,\n",
    "            \"DiscountUsageRate\": discount_rate\n",
    "        })\n",
    "    return pd.DataFrame(data)\n",
    "\n",
    "engagement = generate_engagement_data(profiles)\n",
    "\n",
    "engagement.to_csv(f\"{volume_path}/engagement/metrics.csv\", index=False)"
   ]
  },
  {
   "cell_type": "code",
   "execution_count": 0,
   "metadata": {
    "application/vnd.databricks.v1+cell": {
     "cellMetadata": {
      "byteLimit": 2048000,
      "rowLimit": 10000
     },
     "inputWidgets": {},
     "nuid": "7b8c8ad9-5d57-4e77-a452-4a6d92637642",
     "showTitle": false,
     "tableResultSettingsMap": {},
     "title": ""
    }
   },
   "outputs": [],
   "source": [
    "w.pipelines.start_update(\n",
    "  pipeline_id=created.pipeline_id,\n",
    "  full_refresh=True\n",
    ")"
   ]
  },
  {
   "cell_type": "code",
   "execution_count": 0,
   "metadata": {
    "application/vnd.databricks.v1+cell": {
     "cellMetadata": {},
     "inputWidgets": {},
     "nuid": "d9f939f8-b631-4681-b966-f11dfbbfd7a7",
     "showTitle": false,
     "tableResultSettingsMap": {},
     "title": ""
    }
   },
   "outputs": [],
   "source": []
  }
 ],
 "metadata": {
  "application/vnd.databricks.v1+notebook": {
   "computePreferences": null,
   "dashboards": [],
   "environmentMetadata": {
    "base_environment": "dbe_c75093c8-0895-475e-8c1b-6acacfe3368b",
    "environment_version": "2"
   },
   "inputWidgetPreferences": null,
   "language": "python",
   "notebookMetadata": {
    "mostRecentlyExecutedCommandWithImplicitDF": {
     "commandId": 3397375242275722,
     "dataframes": [
      "_sqldf"
     ]
    },
    "pythonIndentUnit": 2
   },
   "notebookName": "01_SETUP",
   "widgets": {}
  },
  "language_info": {
   "name": "python"
  }
 },
 "nbformat": 4,
 "nbformat_minor": 0
}
