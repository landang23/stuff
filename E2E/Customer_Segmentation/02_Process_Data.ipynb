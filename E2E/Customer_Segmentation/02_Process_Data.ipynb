{
 "cells": [
  {
   "cell_type": "markdown",
   "metadata": {
    "application/vnd.databricks.v1+cell": {
     "cellMetadata": {},
     "inputWidgets": {},
     "nuid": "55c7c6b8-a9a6-49b0-9b80-705e9d2d17ea",
     "showTitle": false,
     "tableResultSettingsMap": {},
     "title": ""
    }
   },
   "source": [
    "# 02_Process_Data\n",
    "-------------\n",
    "Lakeflow Declarative (formerly Delta Live Tables) Pipeline to pickup the data generated in notebook 01_SETUP, then clean, process, and transform it\n"
   ]
  },
  {
   "cell_type": "markdown",
   "metadata": {
    "application/vnd.databricks.v1+cell": {
     "cellMetadata": {},
     "inputWidgets": {},
     "nuid": "037e9bba-ea4b-4b66-83b5-66cf24a3d3c8",
     "showTitle": false,
     "tableResultSettingsMap": {},
     "title": ""
    }
   },
   "source": [
    "### Bronze Layer\n"
   ]
  },
  {
   "cell_type": "code",
   "execution_count": 0,
   "metadata": {
    "application/vnd.databricks.v1+cell": {
     "cellMetadata": {},
     "inputWidgets": {},
     "nuid": "9b909019-5ab1-4731-8b8b-1418a236b035",
     "showTitle": false,
     "tableResultSettingsMap": {},
     "title": ""
    }
   },
   "outputs": [],
   "source": [
    "CREATE OR REPLACE MATERIALIZED VIEW customer_transactions\n",
    "COMMENT \"Raw transactions for customer purchases\"\n",
    "AS\n",
    "SELECT\n",
    "  *\n",
    "FROM read_files(\n",
    "  '/Volumes/users/landan_george/customer_segmentation/transactions/',\n",
    "    format => \"csv\"\n",
    "  );"
   ]
  },
  {
   "cell_type": "markdown",
   "metadata": {
    "application/vnd.databricks.v1+cell": {
     "cellMetadata": {},
     "inputWidgets": {},
     "nuid": "8a02a7cb-6907-4db6-8b76-fff4dfd82de1",
     "showTitle": false,
     "tableResultSettingsMap": {},
     "title": ""
    }
   },
   "source": [
    "### Silver Layer"
   ]
  },
  {
   "cell_type": "code",
   "execution_count": 0,
   "metadata": {
    "application/vnd.databricks.v1+cell": {
     "cellMetadata": {},
     "inputWidgets": {},
     "nuid": "229cb08a-7b72-4066-9775-fe4a68f806dc",
     "showTitle": false,
     "tableResultSettingsMap": {},
     "title": ""
    }
   },
   "outputs": [],
   "source": [
    "CREATE OR REPLACE MATERIALIZED VIEW customer_transactions_agg\n",
    "COMMENT \"Aggregated transactions for customer purchases\"\n",
    "AS\n",
    "SELECT\n",
    "  CustomerID,\n",
    "  count(CustomerID) as TotalPurchases,\n",
    "  ROUND(AVG(Amount), 2) as AvgOrderValue,\n",
    "  ROUND(SUM(Amount), 2) as TotalSpent,\n",
    "  datediff(current_date(), min(TransactionDate)) as DaysSinceFirstPurchase,\n",
    "  datediff(current_date(), max(TransactionDate)) as DaysSinceLastPurchase,\n",
    "  min(TransactionDate) as FirstPurchase,\n",
    "  max(TransactionDate) as LastPurchase\n",
    "FROM customer_transactions\n",
    "GROUP BY CustomerID"
   ]
  },
  {
   "cell_type": "code",
   "execution_count": 0,
   "metadata": {
    "application/vnd.databricks.v1+cell": {
     "cellMetadata": {},
     "inputWidgets": {},
     "nuid": "bd5a398c-39a8-420a-9e78-87bb24e428a0",
     "showTitle": false,
     "tableResultSettingsMap": {},
     "title": ""
    }
   },
   "outputs": [],
   "source": [
    "CREATE OR REPLACE MATERIALIZED VIEW customer_profile\n",
    "COMMENT \"Customer profile data for name, age, identity, etc.\"\n",
    "AS\n",
    "SELECT\n",
    "  *\n",
    "FROM read_files(\n",
    "  '/Volumes/users/landan_george/customer_segmentation/customer_profile/',\n",
    "    format => \"csv\"\n",
    "  );"
   ]
  },
  {
   "cell_type": "code",
   "execution_count": 0,
   "metadata": {
    "application/vnd.databricks.v1+cell": {
     "cellMetadata": {},
     "inputWidgets": {},
     "nuid": "534d7a37-74e6-47a6-8aa4-9217c28dada8",
     "showTitle": false,
     "tableResultSettingsMap": {},
     "title": ""
    }
   },
   "outputs": [],
   "source": [
    "CREATE OR REPLACE MATERIALIZED VIEW customer_engagement\n",
    "COMMENT \"Customer Engagement Data\"\n",
    "AS\n",
    "SELECT\n",
    "  *\n",
    "FROM read_files(\n",
    "  '/Volumes/users/landan_george/customer_segmentation/engagement/',\n",
    "    format => \"csv\"\n",
    "  );"
   ]
  },
  {
   "cell_type": "markdown",
   "metadata": {
    "application/vnd.databricks.v1+cell": {
     "cellMetadata": {},
     "inputWidgets": {},
     "nuid": "ce8a80eb-0a0d-43b7-b49f-638af85d354b",
     "showTitle": false,
     "tableResultSettingsMap": {},
     "title": ""
    }
   },
   "source": [
    "### Gold Layer"
   ]
  },
  {
   "cell_type": "code",
   "execution_count": 0,
   "metadata": {
    "application/vnd.databricks.v1+cell": {
     "cellMetadata": {},
     "inputWidgets": {},
     "nuid": "1d15a3af-c328-4d5d-b321-f0fef5c5c721",
     "showTitle": false,
     "tableResultSettingsMap": {},
     "title": ""
    }
   },
   "outputs": [],
   "source": [
    "CREATE OR REPLACE MATERIALIZED VIEW customer_engagement_gold\n",
    "COMMENT \"Gold table for ML Model\"\n",
    "AS\n",
    "SELECT\n",
    "  t.CustomerID,\n",
    "  t.TotalPurchases,\n",
    "  t.AvgOrderValue,\n",
    "  t.TotalSpent,\n",
    "  t.DaysSinceFirstPurchase,\n",
    "  t.DaysSinceLastPurchase,\n",
    "  t.FirstPurchase,\n",
    "  t.LastPurchase,\n",
    "  p.FirstName,\n",
    "  p.LastName,\n",
    "  p.Age,\n",
    "  p.Gender,\n",
    "  p.City,\n",
    "  CAST(split(p.EstLocation, ' ')[0] AS DOUBLE) as Lat,\n",
    "  CAST(split(p.EstLocation, ' ')[1] AS DOUBLE) as Lon,\n",
    "  p.SignupDate,\n",
    "  e.EmailOpens,\n",
    "  e.WebVisits,\n",
    "  e.MobileAppSessions,\n",
    "  e.LoyaltyScore,\n",
    "  e.Returns,\n",
    "  e.DiscountUsageRate\n",
    "FROM customer_transactions_agg t\n",
    "JOIN customer_profile p ON t.CustomerID = p.CustomerID\n",
    "JOIN customer_engagement e ON t.CustomerID = e.CustomerID"
   ]
  }
 ],
 "metadata": {
  "application/vnd.databricks.v1+notebook": {
   "computePreferences": null,
   "dashboards": [],
   "environmentMetadata": {
    "base_environment": "dbe_c75093c8-0895-475e-8c1b-6acacfe3368b",
    "environment_version": "2"
   },
   "inputWidgetPreferences": null,
   "language": "sql",
   "notebookMetadata": {
    "pythonIndentUnit": 2
   },
   "notebookName": "02_Process_Data",
   "widgets": {}
  },
  "language_info": {
   "name": "sql"
  }
 },
 "nbformat": 4,
 "nbformat_minor": 0
}
